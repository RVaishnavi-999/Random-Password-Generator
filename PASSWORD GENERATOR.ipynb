{
 "cells": [
  {
   "cell_type": "code",
   "execution_count": 37,
   "metadata": {},
   "outputs": [
    {
     "name": "stdout",
     "output_type": "stream",
     "text": [
      "v#3Q&uZL^Bz$yEa{"
     ]
    }
   ],
   "source": [
    "#RANDOM PASSWORD GENERATOR \n",
    "\n",
    "\"\"\"\n",
    "Author : Vaishnavi R.\n",
    "* Using upper case, lower case, numbers from 0 to 9 and symbols\n",
    "by importing random and string module\"\"\"\n",
    "\n",
    "#to ganerate random password\n",
    "import random \n",
    "#to get alphabets\n",
    "import string \n",
    "\n",
    "lower = string.ascii_lowercase #all lower case letters\n",
    "#or lower = 'abcdefghijklmnopqrstuvwxyz'\n",
    "upper = string.ascii_uppercase#all uppercase letters\n",
    "#or uppet = 'ABCDEFGHIJKLMNOPQRSTUVWXYZ'\n",
    "numbers = '0123456789'\n",
    "symbols = \"~`!@#$%^&*(){}[]:;<>.,?/|\"\n",
    "\n",
    "# Concatenating all strings\n",
    "all = lower + upper + numbers + symbols\n",
    "#to get a password of lenght 16\n",
    "for i in range(1,17):\n",
    "    password = random.choice(all)\n",
    "    print(password, end=\"\")\n"
   ]
  },
  {
   "cell_type": "code",
   "execution_count": null,
   "metadata": {},
   "outputs": [],
   "source": []
  }
 ],
 "metadata": {
  "kernelspec": {
   "display_name": "Python 3",
   "language": "python",
   "name": "python3"
  },
  "language_info": {
   "codemirror_mode": {
    "name": "ipython",
    "version": 3
   },
   "file_extension": ".py",
   "mimetype": "text/x-python",
   "name": "python",
   "nbconvert_exporter": "python",
   "pygments_lexer": "ipython3",
   "version": "3.8.3"
  }
 },
 "nbformat": 4,
 "nbformat_minor": 4
}
